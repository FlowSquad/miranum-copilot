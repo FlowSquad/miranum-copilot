{
 "cells": [
  {
   "cell_type": "code",
   "execution_count": 1,
   "id": "initial_id",
   "metadata": {
    "collapsed": true,
    "ExecuteTime": {
     "end_time": "2023-11-06T14:23:22.873532870Z",
     "start_time": "2023-11-06T14:23:22.743583005Z"
    }
   },
   "outputs": [],
   "source": [
    "import openai\n",
    "import os\n",
    "\n",
    "from dotenv import load_dotenv, find_dotenv\n",
    "\n",
    "_ = load_dotenv(find_dotenv()) # read local .env file\n",
    "\n",
    "openai.api_key  = os.getenv('OPENAI_API_KEY')\n"
   ]
  },
  {
   "cell_type": "code",
   "execution_count": 9,
   "outputs": [],
   "source": [
    "import json\n",
    "\n",
    "reader = open(\"../data/templates/json-form.schema.json\")\n",
    "schema = json.load(reader)\n"
   ],
   "metadata": {
    "collapsed": false,
    "ExecuteTime": {
     "end_time": "2023-11-06T14:46:16.530159574Z",
     "start_time": "2023-11-06T14:46:16.482949868Z"
    }
   },
   "id": "86524899d25e891f"
  },
  {
   "cell_type": "code",
   "execution_count": 10,
   "outputs": [
    {
     "name": "stdout",
     "output_type": "stream",
     "text": [
      "{'$schema': 'https://json-schema.org/draft/2020-12/schema', 'title': 'Process Documentation', 'description': 'A template for documenting a (business) process.', 'type': 'object', 'properties': {'schema': {'$ref': 'https://json-schema.org/draft/2020-12/schema'}, 'uischema': {'type': 'object', 'required': ['type', 'elements'], 'properties': {'type': {'type': 'string', 'enum': ['VerticalLayout', 'HorizontalLayout']}, 'elements': {'type': 'array', 'items': {'type': 'object', 'required': ['type', 'scope'], 'properties': {'type': {'type': 'string'}, 'label': {'type': 'string'}, 'scope': {'type': 'string'}, 'options': {'type': 'object', 'required': ['detail'], 'properties': {'detail': {'type': 'string', 'enum': ['DEFAULT', 'GENERATED', 'REGISTERED']}, 'showSortButtons': {'type': 'boolean'}}}}}}}}}}\n"
     ]
    }
   ],
   "source": [
    "print(schema)"
   ],
   "metadata": {
    "collapsed": false,
    "ExecuteTime": {
     "end_time": "2023-11-06T14:46:17.379206861Z",
     "start_time": "2023-11-06T14:46:17.371889378Z"
    }
   },
   "id": "cbf765523290789d"
  },
  {
   "cell_type": "code",
   "execution_count": 4,
   "outputs": [],
   "source": [
    "def get_completion(prompt, model=\"gpt-3.5-turbo\"):\n",
    "    messages = [\n",
    "        {\"role\": \"system\", \"content\": \"You are a JSON Forms generator.\"},\n",
    "        {\"role\": \"user\", \"content\": prompt}\n",
    "    ]\n",
    "    functions = [\n",
    "        {\"name\": \"set_json_form\", \"parameters\": schema}\n",
    "    ]\n",
    "    function_call = {\"name\": \"set_json_form\"}\n",
    "    response = openai.ChatCompletion.create(\n",
    "        model=model,\n",
    "        messages=messages,\n",
    "        functions=functions,\n",
    "        function_call=function_call,\n",
    "        temperature=0, # this is the degree of randomness of the model's output\n",
    "    )\n",
    "    return response.choices[0].message[\"function_call\"][\"arguments\"]\n"
   ],
   "metadata": {
    "collapsed": false,
    "ExecuteTime": {
     "end_time": "2023-11-06T14:23:25.014176021Z",
     "start_time": "2023-11-06T14:23:25.006042015Z"
    }
   },
   "id": "5dc105ea22712a0a"
  },
  {
   "cell_type": "code",
   "execution_count": 11,
   "outputs": [
    {
     "name": "stdout",
     "output_type": "stream",
     "text": [
      "{\n",
      "  \"schema\": {\n",
      "    \"type\": \"object\",\n",
      "    \"properties\": {\n",
      "      \"orderNumber\": {\n",
      "        \"type\": \"string\",\n",
      "        \"title\": \"Order Number\"\n",
      "      },\n",
      "      \"customerName\": {\n",
      "        \"type\": \"string\",\n",
      "        \"title\": \"Customer Name\"\n",
      "      },\n",
      "      \"email\": {\n",
      "        \"type\": \"string\",\n",
      "        \"format\": \"email\",\n",
      "        \"title\": \"Email\"\n",
      "      },\n",
      "      \"orderDate\": {\n",
      "        \"type\": \"string\",\n",
      "        \"format\": \"date\",\n",
      "        \"title\": \"Order Date\"\n",
      "      },\n",
      "      \"deliveryDate\": {\n",
      "        \"type\": \"string\",\n",
      "        \"format\": \"date\",\n",
      "        \"title\": \"Delivery Date\"\n",
      "      },\n",
      "      \"items\": {\n",
      "        \"type\": \"array\",\n",
      "        \"items\": {\n",
      "          \"type\": \"object\",\n",
      "          \"properties\": {\n",
      "            \"itemName\": {\n",
      "              \"type\": \"string\",\n",
      "              \"title\": \"Item Name\"\n",
      "            },\n",
      "            \"quantity\": {\n",
      "              \"type\": \"number\",\n",
      "              \"title\": \"Quantity\"\n",
      "            },\n",
      "            \"price\": {\n",
      "              \"type\": \"number\",\n",
      "              \"title\": \"Price\"\n",
      "            }\n",
      "          },\n",
      "          \"required\": [\"itemName\", \"quantity\", \"price\"]\n",
      "        }\n",
      "      }\n",
      "    },\n",
      "    \"required\": [\"orderNumber\", \"customerName\", \"email\", \"orderDate\", \"deliveryDate\", \"items\"]\n",
      "  },\n",
      "  \"uischema\": {\n",
      "    \"type\": \"VerticalLayout\",\n",
      "    \"elements\": [\n",
      "      {\n",
      "        \"type\": \"Control\",\n",
      "        \"label\": \"Order Number\",\n",
      "        \"scope\": \"#/properties/orderNumber\",\n",
      "        \"options\": {\n",
      "          \"detail\": \"DEFAULT\",\n",
      "          \"showSortButtons\": false\n",
      "        }\n",
      "      },\n",
      "      {\n",
      "        \"type\": \"Control\",\n",
      "        \"label\": \"Customer Name\",\n",
      "        \"scope\": \"#/properties/customerName\",\n",
      "        \"options\": {\n",
      "          \"detail\": \"DEFAULT\",\n",
      "          \"showSortButtons\": false\n",
      "        }\n",
      "      },\n",
      "      {\n",
      "        \"type\": \"Control\",\n",
      "        \"label\": \"Email\",\n",
      "        \"scope\": \"#/properties/email\",\n",
      "        \"options\": {\n",
      "          \"detail\": \"DEFAULT\",\n",
      "          \"showSortButtons\": false\n",
      "        }\n",
      "      },\n",
      "      {\n",
      "        \"type\": \"Control\",\n",
      "        \"label\": \"Order Date\",\n",
      "        \"scope\": \"#/properties/orderDate\",\n",
      "        \"options\": {\n",
      "          \"detail\": \"DEFAULT\",\n",
      "          \"showSortButtons\": false\n",
      "        }\n",
      "      },\n",
      "      {\n",
      "        \"type\": \"Control\",\n",
      "        \"label\": \"Delivery Date\",\n",
      "        \"scope\": \"#/properties/deliveryDate\",\n",
      "        \"options\": {\n",
      "          \"detail\": \"DEFAULT\",\n",
      "          \"showSortButtons\": false\n",
      "        }\n",
      "      },\n",
      "      {\n",
      "        \"type\": \"Control\",\n",
      "        \"label\": \"Items\",\n",
      "        \"scope\": \"#/properties/items\",\n",
      "        \"options\": {\n",
      "          \"detail\": \"DEFAULT\",\n",
      "          \"showSortButtons\": false\n",
      "        }\n",
      "      }\n",
      "    ]\n",
      "  }\n",
      "}\n"
     ]
    }
   ],
   "source": [
    "prompt_1 = f\"\"\"\n",
    "Generate a random schema for a order form.\n",
    "\"\"\"\n",
    "\n",
    "response = get_completion(prompt_1, model=\"gpt-4\")\n",
    "print(response)"
   ],
   "metadata": {
    "collapsed": false,
    "ExecuteTime": {
     "end_time": "2023-11-06T14:46:59.269145776Z",
     "start_time": "2023-11-06T14:46:20.226257450Z"
    }
   },
   "id": "2e0b3cab33e4ef09"
  },
  {
   "cell_type": "code",
   "execution_count": 12,
   "outputs": [
    {
     "name": "stdout",
     "output_type": "stream",
     "text": [
      "{\n",
      "  \"schema\": {\n",
      "    \"type\": \"object\",\n",
      "    \"properties\": {\n",
      "      \"firstname\": {\n",
      "        \"type\": \"string\",\n",
      "        \"title\": \"First Name\"\n",
      "      },\n",
      "      \"lastname\": {\n",
      "        \"type\": \"string\",\n",
      "        \"title\": \"Last Name\"\n",
      "      }\n",
      "    },\n",
      "    \"required\": [\"firstname\", \"lastname\"]\n",
      "  },\n",
      "  \"uischema\": {\n",
      "    \"type\": \"HorizontalLayout\",\n",
      "    \"elements\": [\n",
      "      {\n",
      "        \"type\": \"Control\",\n",
      "        \"label\": \"First Name\",\n",
      "        \"scope\": \"#/properties/firstname\",\n",
      "        \"options\": {\n",
      "          \"detail\": \"REGISTERED\",\n",
      "          \"showSortButtons\": false\n",
      "        }\n",
      "      },\n",
      "      {\n",
      "        \"type\": \"Control\",\n",
      "        \"label\": \"Last Name\",\n",
      "        \"scope\": \"#/properties/lastname\",\n",
      "        \"options\": {\n",
      "          \"detail\": \"REGISTERED\",\n",
      "          \"showSortButtons\": false\n",
      "        }\n",
      "      }\n",
      "    ]\n",
      "  }\n",
      "}\n"
     ]
    }
   ],
   "source": [
    "prompt_2 = f\"\"\"\n",
    "Generate a form for the registration of a residence after a move to a new city.\n",
    "The firstname and the lastname should be placed in one line horizontally.\n",
    "\"\"\"\n",
    "\n",
    "response = get_completion(prompt_2, model=\"gpt-4\")\n",
    "print(response)\n"
   ],
   "metadata": {
    "collapsed": false,
    "ExecuteTime": {
     "end_time": "2023-11-06T14:52:13.747224354Z",
     "start_time": "2023-11-06T14:51:50.741160695Z"
    }
   },
   "id": "bd768202d863d818"
  },
  {
   "cell_type": "code",
   "execution_count": 13,
   "outputs": [
    {
     "name": "stdout",
     "output_type": "stream",
     "text": [
      "{\n",
      "  \"schema\": {\n",
      "    \"type\": \"object\",\n",
      "    \"properties\": {\n",
      "      \"firstName\": {\n",
      "        \"type\": \"string\",\n",
      "        \"title\": \"First Name\"\n",
      "      },\n",
      "      \"lastName\": {\n",
      "        \"type\": \"string\",\n",
      "        \"title\": \"Last Name\"\n",
      "      },\n",
      "      \"email\": {\n",
      "        \"type\": \"string\",\n",
      "        \"format\": \"email\",\n",
      "        \"title\": \"Email\"\n",
      "      },\n",
      "      \"position\": {\n",
      "        \"type\": \"string\",\n",
      "        \"title\": \"Position\"\n",
      "      },\n",
      "      \"startDate\": {\n",
      "        \"type\": \"string\",\n",
      "        \"format\": \"date\",\n",
      "        \"title\": \"Start Date\"\n",
      "      }\n",
      "    },\n",
      "    \"required\": [\"firstName\", \"lastName\", \"email\", \"position\", \"startDate\"]\n",
      "  },\n",
      "  \"uischema\": {\n",
      "    \"type\": \"VerticalLayout\",\n",
      "    \"elements\": [\n",
      "      {\n",
      "        \"type\": \"Control\",\n",
      "        \"label\": \"First Name\",\n",
      "        \"scope\": \"#/properties/firstName\",\n",
      "        \"options\": {\n",
      "          \"detail\": \"DEFAULT\",\n",
      "          \"showSortButtons\": false\n",
      "        }\n",
      "      },\n",
      "      {\n",
      "        \"type\": \"Control\",\n",
      "        \"label\": \"Last Name\",\n",
      "        \"scope\": \"#/properties/lastName\",\n",
      "        \"options\": {\n",
      "          \"detail\": \"DEFAULT\",\n",
      "          \"showSortButtons\": false\n",
      "        }\n",
      "      },\n",
      "      {\n",
      "        \"type\": \"Control\",\n",
      "        \"label\": \"Email\",\n",
      "        \"scope\": \"#/properties/email\",\n",
      "        \"options\": {\n",
      "          \"detail\": \"DEFAULT\",\n",
      "          \"showSortButtons\": false\n",
      "        }\n",
      "      },\n",
      "      {\n",
      "        \"type\": \"Control\",\n",
      "        \"label\": \"Position\",\n",
      "        \"scope\": \"#/properties/position\",\n",
      "        \"options\": {\n",
      "          \"detail\": \"DEFAULT\",\n",
      "          \"showSortButtons\": false\n",
      "        }\n",
      "      },\n",
      "      {\n",
      "        \"type\": \"Control\",\n",
      "        \"label\": \"Start Date\",\n",
      "        \"scope\": \"#/properties/startDate\",\n",
      "        \"options\": {\n",
      "          \"detail\": \"DEFAULT\",\n",
      "          \"showSortButtons\": false\n",
      "        }\n",
      "      }\n",
      "    ]\n",
      "  }\n",
      "}\n"
     ]
    }
   ],
   "source": [
    "prompt_3 = f\"\"\"\n",
    "Generate a form for the HR Process of a Company to onboard new employees.\n",
    "\"\"\"\n",
    "\n",
    "response = get_completion(prompt_3, model=\"gpt-4\")\n",
    "print(response)\n"
   ],
   "metadata": {
    "collapsed": false,
    "ExecuteTime": {
     "end_time": "2023-11-06T14:54:59.254900611Z",
     "start_time": "2023-11-06T14:54:08.546325631Z"
    }
   },
   "id": "fa379c7521d62787"
  },
  {
   "cell_type": "code",
   "execution_count": null,
   "outputs": [],
   "source": [],
   "metadata": {
    "collapsed": false
   },
   "id": "c889ca47428f1bcb"
  }
 ],
 "metadata": {
  "kernelspec": {
   "display_name": "Python 3",
   "language": "python",
   "name": "python3"
  },
  "language_info": {
   "codemirror_mode": {
    "name": "ipython",
    "version": 2
   },
   "file_extension": ".py",
   "mimetype": "text/x-python",
   "name": "python",
   "nbconvert_exporter": "python",
   "pygments_lexer": "ipython2",
   "version": "2.7.6"
  }
 },
 "nbformat": 4,
 "nbformat_minor": 5
}
