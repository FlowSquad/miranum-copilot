{
 "cells": [
  {
   "cell_type": "markdown",
   "source": [
    "# Setup"
   ],
   "metadata": {
    "collapsed": false
   },
   "id": "51e65796fc15c638"
  },
  {
   "cell_type": "code",
   "execution_count": 1,
   "outputs": [],
   "source": [
    "import openai\n",
    "import os\n",
    "\n",
    "from dotenv import load_dotenv, find_dotenv\n",
    "\n",
    "_ = load_dotenv(find_dotenv()) # read local .env file\n",
    "\n",
    "openai.api_key  = os.getenv('OPENAI_API_KEY')\n"
   ],
   "metadata": {
    "collapsed": false,
    "ExecuteTime": {
     "end_time": "2023-09-19T09:40:47.280710Z",
     "start_time": "2023-09-19T09:40:45.399940Z"
    }
   },
   "id": "8f355889781daa42"
  },
  {
   "cell_type": "code",
   "execution_count": 23,
   "outputs": [],
   "source": [
    "def get_completion(prompt, schema, model=\"gpt-3.5-turbo\"):\n",
    "    messages = [\n",
    "        {\"role\": \"system\", \"content\": \"You are a helpful process documentation assistant.\"},\n",
    "        {\"role\": \"user\", \"content\": prompt}\n",
    "    ]\n",
    "    functions = [\n",
    "        {\"name\": \"set_documentation\", \"parameters\": schema}\n",
    "    ]\n",
    "    function_call = {\"name\": \"set_documentation\"}\n",
    "    response = openai.ChatCompletion.create(\n",
    "        model=model,\n",
    "        messages=messages,\n",
    "        functions=functions,\n",
    "        function_call=function_call,\n",
    "        temperature=0, # this is the degree of randomness of the model's output\n",
    "    )\n",
    "    return response.choices[0].message[\"function_call\"][\"arguments\"]\n"
   ],
   "metadata": {
    "collapsed": false,
    "ExecuteTime": {
     "end_time": "2023-09-19T10:29:10.063052Z",
     "start_time": "2023-09-19T10:29:10.054429Z"
    }
   },
   "id": "2c11fa4006e8de5f"
  },
  {
   "cell_type": "markdown",
   "source": [
    "# Read Template"
   ],
   "metadata": {
    "collapsed": false
   },
   "id": "74908f465e451635"
  },
  {
   "cell_type": "code",
   "execution_count": 32,
   "outputs": [],
   "source": [
    "import json\n",
    "\n",
    "reader = open(\"../data/templates/documentation.schema.json\")\n",
    "template = json.load(reader)"
   ],
   "metadata": {
    "collapsed": false,
    "ExecuteTime": {
     "end_time": "2023-09-19T10:46:03.318470Z",
     "start_time": "2023-09-19T10:46:03.311416Z"
    }
   },
   "id": "196cc23ff8f1449a"
  },
  {
   "cell_type": "code",
   "execution_count": 28,
   "outputs": [
    {
     "name": "stdout",
     "output_type": "stream",
     "text": [
      "{'$schema': 'https://json-schema.org/draft/2020-12/schema', 'title': 'Process Documentation', 'description': 'A template for documenting a (business) process.', 'required': ['process', 'processResponsibility', 'input', 'supplierOfInput', 'processSteps', 'output', 'customerOfOutput', 'itSystems', 'resources'], 'type': 'object', 'properties': {'process': {'description': 'Your task is to generate a name for the given process.', 'type': 'string'}, 'processResponsibility': {'description': 'Your task is to describe the given process in maximal 3 sentences.', 'type': 'string'}, 'input': {'description': 'Your task is to list all input parameter in the given process.', 'type': 'array', 'items': {'type': 'string'}, 'uniqueItems': True}, 'supplierOfInput': {'description': 'Your task is to define from where the inputs come from.', 'type': 'array', 'items': {'type': 'string'}, 'uniqueItems': True}, 'processSteps': {'description': 'Your task is to list the process steps in their correct order.', 'type': 'array', 'items': {'type': 'string'}}, 'output': {'description': 'Your task is to list all output parameter in the given process.', 'type': 'array', 'items': {'type': 'string'}, 'uniqueItems': True}, 'customerOfOutput': {'description': 'Your task is to define who consumes the output.', 'type': 'array', 'items': {'type': 'string'}, 'uniqueItems': True}, 'metrics': {'description': 'Your task is to define plausible metrics for the given process.', 'type': 'array', 'items': {'type': 'string'}, 'uniqueItems': True}, 'itSystems': {'description': 'Your task is to define which different IT-Systems are involved in the given process.', 'type': 'array', 'items': {'type': 'string'}, 'uniqueItems': True}, 'resources': {'description': 'Your task is to define which resources are needed from the given process.', 'type': 'array', 'items': {'type': 'string'}, 'uniqueItems': True}}}\n"
     ]
    }
   ],
   "source": [
    "print(template)"
   ],
   "metadata": {
    "collapsed": false,
    "ExecuteTime": {
     "end_time": "2023-09-19T10:39:02.675198Z",
     "start_time": "2023-09-19T10:39:02.668077Z"
    }
   },
   "id": "d807255f750e2989"
  },
  {
   "cell_type": "markdown",
   "source": [
    "# Read BPMN Diagrams"
   ],
   "metadata": {
    "collapsed": false
   },
   "id": "55a9eb7bbbccf506"
  },
  {
   "cell_type": "markdown",
   "source": [
    "## Application Process\n",
    "<div>\n",
    "    <img src=\"../images/application.png\" width=\"900\"/>\n",
    "</div>\n"
   ],
   "metadata": {
    "collapsed": false
   },
   "id": "bea06a74777e6f43"
  },
  {
   "cell_type": "code",
   "execution_count": 5,
   "outputs": [],
   "source": [
    "reader = open(\"../data/bpmn/application_process.bpmn\")\n",
    "application = reader.read()"
   ],
   "metadata": {
    "collapsed": false,
    "ExecuteTime": {
     "end_time": "2023-09-19T09:41:22.380202Z",
     "start_time": "2023-09-19T09:41:22.374615Z"
    }
   },
   "id": "cdeceb99e2386e4e"
  },
  {
   "cell_type": "markdown",
   "source": [
    "\n",
    "## Cooking Process\n",
    "<div>\n",
    "    <img src=\"../images/cooking.png\" width=\"900\"/>\n",
    "</div>\n"
   ],
   "metadata": {
    "collapsed": false
   },
   "id": "637888688fb0af09"
  },
  {
   "cell_type": "code",
   "execution_count": 6,
   "outputs": [],
   "source": [
    "reader = open(\"../data/bpmn/cooking.bpmn\")\n",
    "cooking = reader.read()"
   ],
   "metadata": {
    "collapsed": false,
    "ExecuteTime": {
     "end_time": "2023-09-19T09:41:23.882960Z",
     "start_time": "2023-09-19T09:41:23.875333Z"
    }
   },
   "id": "f31a8219f8939c62"
  },
  {
   "cell_type": "markdown",
   "source": [
    "## Invoice Process\n",
    "<div>\n",
    "    <img src=\"../images/invoice.png\" width=\"900\"/>\n",
    "</div>\n"
   ],
   "metadata": {
    "collapsed": false
   },
   "id": "d63c2d672aaa43d5"
  },
  {
   "cell_type": "code",
   "execution_count": 30,
   "outputs": [],
   "source": [
    "reader = open(\"../data/bpmn/invoice.bpmn\")\n",
    "invoice = reader.read()"
   ],
   "metadata": {
    "collapsed": false,
    "ExecuteTime": {
     "end_time": "2023-09-19T10:42:56.137951Z",
     "start_time": "2023-09-19T10:42:56.133600Z"
    }
   },
   "id": "fbf992b70058cd07"
  },
  {
   "cell_type": "markdown",
   "source": [
    "# Prompts"
   ],
   "metadata": {
    "collapsed": false
   },
   "id": "339d25d8719dca6d"
  },
  {
   "cell_type": "code",
   "execution_count": 24,
   "outputs": [
    {
     "name": "stdout",
     "output_type": "stream",
     "text": [
      "{\n",
      "  \"process\": \"Recruitment Process\",\n",
      "  \"processResponsibility\": \"This process is responsible for managing the recruitment of new employees, from the emergence of a vacancy to the selection of an applicant to fill the position.\",\n",
      "  \"input\": [\"Vacancy details\", \"Job posting details\", \"Applications\", \"Exam results\"],\n",
      "  \"supplierOfInput\": [\"Human Resources\", \"Hiring Manager\", \"Applicants\", \"Examiners\"],\n",
      "  \"processSteps\": [\"Vacancy emerged\", \"Report vacancy\", \"Create job posting\", \"Application received\", \"Hold application exam\", \"Select applicant\", \"Position filled\"],\n",
      "  \"output\": [\"Job posting\", \"Received applications\", \"Exam results\", \"Selected applicant\"],\n",
      "  \"customerOfOutput\": [\"Job seekers\", \"Hiring Manager\", \"Examiners\", \"Human Resources\"],\n",
      "  \"metrics\": [\"Time to fill vacancy\", \"Number of applications received\", \"Number of qualified applicants\", \"Time to hire\"],\n",
      "  \"itSystems\": [\"HR Management System\", \"Job Posting Platform\", \"Applicant Tracking System\"],\n",
      "  \"resources\": [\"HR personnel\", \"Hiring Manager\", \"Examiners\", \"IT systems\"]\n",
      "}\n"
     ]
    }
   ],
   "source": [
    "prompt_application = f\"\"\"\n",
    "Create a process documentation as a valid JSON object for the specified process delimited by triple backticks. \\\n",
    "\n",
    "Process: \\\n",
    "```{application}``` \\\n",
    "\"\"\"\n",
    "response = get_completion(prompt_application, template, \"gpt-4\")\n",
    "print(response)\n"
   ],
   "metadata": {
    "collapsed": false,
    "ExecuteTime": {
     "end_time": "2023-09-19T10:29:42.831564Z",
     "start_time": "2023-09-19T10:29:19.060045Z"
    }
   },
   "id": "d47380ad221e28f2"
  },
  {
   "cell_type": "code",
   "execution_count": 33,
   "outputs": [
    {
     "name": "stdout",
     "output_type": "stream",
     "text": [
      "{\n",
      "  \"process\": \"Invoice Creation\",\n",
      "  \"processResponsibility\": \"This process is responsible for creating an invoice when an item is sold, sending the invoice to the customer, and sending a reminder if the invoice is not settled. The process ends when the invoice is settled.\",\n",
      "  \"input\": [\"Item sold\", \"invoice\", \"delivery\", \"invoiceId\", \"testInput\"],\n",
      "  \"supplierOfInput\": [\"Sales Department\", \"Invoice Creation Process\", \"Delivery Department\", \"Invoice Creation Process\", \"Test System\"],\n",
      "  \"processSteps\": [\"Item sold\", \"Create invoice\", \"Send invoice\", \"Received money?\", \"Send reminder\", \"Invoice settled\"],\n",
      "  \"output\": [\"invoice\"],\n",
      "  \"customerOfOutput\": [\"Customer\"],\n",
      "  \"metrics\": [\"Number of invoices created\", \"Number of invoices sent\", \"Number of reminders sent\", \"Number of invoices settled\"],\n",
      "  \"itSystems\": [\"Sales System\", \"Invoice System\", \"Reminder System\"],\n",
      "  \"resources\": [\"Sales data\", \"Delivery data\", \"Invoice data\"]\n",
      "}\n"
     ]
    }
   ],
   "source": [
    "prompt_invoice = f\"\"\"\n",
    "Create a process documentation as a valid JSON object for the specified process delimited by triple backticks. \\\n",
    "\n",
    "Process: \\\n",
    "```{invoice}``` \\\n",
    "\"\"\"\n",
    "response = get_completion(prompt_invoice, template, \"gpt-4\")\n",
    "print(response)"
   ],
   "metadata": {
    "collapsed": false,
    "ExecuteTime": {
     "end_time": "2023-09-19T10:46:28.889004Z",
     "start_time": "2023-09-19T10:46:08.927418Z"
    }
   },
   "id": "b6eb784db69a9b4c"
  },
  {
   "cell_type": "markdown",
   "source": [
    "# More Complex Example\n"
   ],
   "metadata": {
    "collapsed": false
   },
   "id": "b5eaeb5a0ae3c5a8"
  },
  {
   "cell_type": "markdown",
   "source": [
    "#### Order Process\n",
    "<div>\n",
    "    <img src=\"../images/order-process.png\" width=\"900\"/>\n",
    "</div>\n"
   ],
   "metadata": {
    "collapsed": false
   },
   "id": "eab33117fec04d32"
  },
  {
   "cell_type": "code",
   "execution_count": 25,
   "outputs": [],
   "source": [
    "bpmn_without_bpmndi = \"\"\"\n",
    "<?xml version=\"1.0\" encoding=\"UTF-8\"?>\n",
    "<bpmn:definitions xmlns:xsi=\"http://www.w3.org/2001/XMLSchema-instance\" xmlns:bpmn=\"http://www.omg.org/spec/BPMN/20100524/MODEL\" xmlns:bpmndi=\"http://www.omg.org/spec/BPMN/20100524/DI\" xmlns:dc=\"http://www.omg.org/spec/DD/20100524/DC\" xmlns:di=\"http://www.omg.org/spec/DD/20100524/DI\" xmlns:camunda=\"http://camunda.org/schema/1.0/bpmn\" id=\"Definitions_1\" targetNamespace=\"http://bpmn.io/schema/bpmn\" exporter=\"Camunda Modeler\" exporterVersion=\"5.14.0\">\n",
    "  <bpmn:collaboration id=\"Collaboration_0e1vmb7\">\n",
    "    <bpmn:participant id=\"Participant_06ir2la\" processRef=\"Process_1\" />\n",
    "    <bpmn:participant id=\"Participant_041ezgg\" name=\"Accounting\" />\n",
    "    <bpmn:participant id=\"Participant_0v4qn1f\" name=\"Inventory Management System\" />\n",
    "    <bpmn:messageFlow id=\"Flow_03c8sl3\" sourceRef=\"Activity_0572g15\" targetRef=\"Participant_041ezgg\" />\n",
    "    <bpmn:messageFlow id=\"Flow_0k3e93j\" sourceRef=\"Activity_02i5xm0\" targetRef=\"Participant_0v4qn1f\" />\n",
    "    <bpmn:messageFlow id=\"Flow_1wbn7he\" sourceRef=\"Participant_0v4qn1f\" targetRef=\"Activity_02i5xm0\" />\n",
    "  </bpmn:collaboration>\n",
    "  <bpmn:process id=\"Process_1\" isExecutable=\"false\">\n",
    "    <bpmn:startEvent id=\"StartEvent_1\" name=\"Order received\">\n",
    "      <bpmn:outgoing>Flow_1aqzaf9</bpmn:outgoing>\n",
    "    </bpmn:startEvent>\n",
    "    <bpmn:userTask id=\"Activity_02i5xm0\" name=\"Check availability\">\n",
    "      <bpmn:extensionElements>\n",
    "        <camunda:inputOutput>\n",
    "          <camunda:inputParameter name=\"order\">${order}</camunda:inputParameter>\n",
    "          <camunda:outputParameter name=\"isAvailable\">${isAvailable}</camunda:outputParameter>\n",
    "          <camunda:outputParameter name=\"storageYard\">${storageYard}</camunda:outputParameter>\n",
    "        </camunda:inputOutput>\n",
    "      </bpmn:extensionElements>\n",
    "      <bpmn:incoming>Flow_1aqzaf9</bpmn:incoming>\n",
    "      <bpmn:outgoing>Flow_1b3thxg</bpmn:outgoing>\n",
    "      <bpmn:property id=\"Property_0j6s4k3\" name=\"__targetRef_placeholder\" />\n",
    "      <bpmn:dataInputAssociation id=\"DataInputAssociation_1oxr6rv\">\n",
    "        <bpmn:sourceRef>DataObjectReference_09rpu96</bpmn:sourceRef>\n",
    "        <bpmn:targetRef>Property_0j6s4k3</bpmn:targetRef>\n",
    "      </bpmn:dataInputAssociation>\n",
    "    </bpmn:userTask>\n",
    "    <bpmn:exclusiveGateway id=\"Gateway_0cjkzda\" name=\"Products available?\">\n",
    "      <bpmn:incoming>Flow_1b3thxg</bpmn:incoming>\n",
    "      <bpmn:outgoing>Flow_1erryay</bpmn:outgoing>\n",
    "      <bpmn:outgoing>Flow_167v014</bpmn:outgoing>\n",
    "    </bpmn:exclusiveGateway>\n",
    "    <bpmn:userTask id=\"Activity_1nouf0v\" name=\"Prepare order\">\n",
    "      <bpmn:extensionElements>\n",
    "        <camunda:inputOutput>\n",
    "          <camunda:inputParameter name=\"orderId\">${order.prop(\"id\")}</camunda:inputParameter>\n",
    "          <camunda:inputParameter name=\"item\">${order.prop(\"item\")}</camunda:inputParameter>\n",
    "          <camunda:inputParameter name=\"quantity\">${order.prop(\"quantity\")}</camunda:inputParameter>\n",
    "          <camunda:inputParameter name=\"storageYard\">${storageYard}</camunda:inputParameter>\n",
    "          <camunda:outputParameter name=\"item\">${item}</camunda:outputParameter>\n",
    "          <camunda:outputParameter name=\"quantity\">${quantity}</camunda:outputParameter>\n",
    "        </camunda:inputOutput>\n",
    "      </bpmn:extensionElements>\n",
    "      <bpmn:incoming>Flow_1erryay</bpmn:incoming>\n",
    "      <bpmn:outgoing>Flow_1iswizi</bpmn:outgoing>\n",
    "    </bpmn:userTask>\n",
    "    <bpmn:userTask id=\"Activity_0572g15\" name=\"Deliver order\">\n",
    "      <bpmn:extensionElements>\n",
    "        <camunda:inputOutput>\n",
    "          <camunda:inputParameter name=\"invoiceAddress\">${order.prop(\"invoiceAddress\")}</camunda:inputParameter>\n",
    "          <camunda:inputParameter name=\"deliveryAddress\">${order.prop(\"deliveryAddress\")}</camunda:inputParameter>\n",
    "          <camunda:inputParameter name=\"item\">${item}</camunda:inputParameter>\n",
    "          <camunda:inputParameter name=\"quantity\">${quantity}</camunda:inputParameter>\n",
    "          <camunda:outputParameter name=\"deliveryBill\">${deliveryBill}</camunda:outputParameter>\n",
    "          <camunda:outputParameter name=\"invoice\">${invoice}</camunda:outputParameter>\n",
    "        </camunda:inputOutput>\n",
    "      </bpmn:extensionElements>\n",
    "      <bpmn:incoming>Flow_1iswizi</bpmn:incoming>\n",
    "      <bpmn:incoming>Flow_1ti8aq3</bpmn:incoming>\n",
    "      <bpmn:outgoing>Flow_0thm5o6</bpmn:outgoing>\n",
    "      <bpmn:property id=\"Property_1dl5r6g\" name=\"__targetRef_placeholder\" />\n",
    "      <bpmn:dataInputAssociation id=\"DataInputAssociation_1ioxhjd\">\n",
    "        <bpmn:sourceRef>DataObjectReference_0a4xslp</bpmn:sourceRef>\n",
    "        <bpmn:targetRef>Property_1dl5r6g</bpmn:targetRef>\n",
    "      </bpmn:dataInputAssociation>\n",
    "      <bpmn:dataInputAssociation id=\"DataInputAssociation_17j0niu\">\n",
    "        <bpmn:sourceRef>DataObjectReference_0doca2i</bpmn:sourceRef>\n",
    "        <bpmn:targetRef>Property_1dl5r6g</bpmn:targetRef>\n",
    "      </bpmn:dataInputAssociation>\n",
    "    </bpmn:userTask>\n",
    "    <bpmn:exclusiveGateway id=\"Gateway_0enk64n\" name=\"Delivery successful?\" default=\"Flow_09bgqcq\">\n",
    "      <bpmn:incoming>Flow_0thm5o6</bpmn:incoming>\n",
    "      <bpmn:outgoing>Flow_0cufsqq</bpmn:outgoing>\n",
    "      <bpmn:outgoing>Flow_09bgqcq</bpmn:outgoing>\n",
    "    </bpmn:exclusiveGateway>\n",
    "    <bpmn:endEvent id=\"Event_0egkq7s\" name=\"Order fullfilled\">\n",
    "      <bpmn:incoming>Flow_0cufsqq</bpmn:incoming>\n",
    "    </bpmn:endEvent>\n",
    "    <bpmn:serviceTask id=\"Activity_0bpppb5\" name=\"Send cancellation\" camunda:type=\"external\" camunda:topic=\"sendCancellation\">\n",
    "      <bpmn:extensionElements>\n",
    "        <camunda:inputOutput>\n",
    "          <camunda:inputParameter name=\"order\">${order}</camunda:inputParameter>\n",
    "        </camunda:inputOutput>\n",
    "      </bpmn:extensionElements>\n",
    "      <bpmn:incoming>Flow_167v014</bpmn:incoming>\n",
    "      <bpmn:outgoing>Flow_0vt19p8</bpmn:outgoing>\n",
    "    </bpmn:serviceTask>\n",
    "    <bpmn:endEvent id=\"Event_1xeeqax\" name=\"Cancellation send\">\n",
    "      <bpmn:incoming>Flow_0vt19p8</bpmn:incoming>\n",
    "    </bpmn:endEvent>\n",
    "    <bpmn:endEvent id=\"Event_102l8sj\" name=\"Order cancelled\">\n",
    "      <bpmn:incoming>Flow_0187d8h</bpmn:incoming>\n",
    "      <bpmn:compensateEventDefinition id=\"CompensateEventDefinition_1nc7c2v\" waitForCompletion=\"false\" />\n",
    "    </bpmn:endEvent>\n",
    "    <bpmn:intermediateCatchEvent id=\"Event_0jsahpx\" name=\"Next day\">\n",
    "      <bpmn:incoming>Flow_09bgqcq</bpmn:incoming>\n",
    "      <bpmn:outgoing>Flow_1ti8aq3</bpmn:outgoing>\n",
    "      <bpmn:timerEventDefinition id=\"TimerEventDefinition_1c0y8ik\">\n",
    "        <bpmn:timeDuration xsi:type=\"bpmn:tFormalExpression\">P1D</bpmn:timeDuration>\n",
    "      </bpmn:timerEventDefinition>\n",
    "    </bpmn:intermediateCatchEvent>\n",
    "    <bpmn:userTask id=\"Activity_0t4x0g8\" name=\"Cancel order\" isForCompensation=\"true\">\n",
    "      <bpmn:extensionElements />\n",
    "    </bpmn:userTask>\n",
    "    <bpmn:boundaryEvent id=\"Event_1nwp297\" attachedToRef=\"Activity_1nouf0v\">\n",
    "      <bpmn:compensateEventDefinition id=\"CompensateEventDefinition_1mexgpq\" />\n",
    "    </bpmn:boundaryEvent>\n",
    "    <bpmn:boundaryEvent id=\"Event_1fjysar\" attachedToRef=\"Activity_0572g15\">\n",
    "      <bpmn:outgoing>Flow_0187d8h</bpmn:outgoing>\n",
    "      <bpmn:errorEventDefinition id=\"ErrorEventDefinition_05qypjs\" />\n",
    "    </bpmn:boundaryEvent>\n",
    "    <bpmn:sequenceFlow id=\"Flow_1aqzaf9\" sourceRef=\"StartEvent_1\" targetRef=\"Activity_02i5xm0\" />\n",
    "    <bpmn:sequenceFlow id=\"Flow_1b3thxg\" sourceRef=\"Activity_02i5xm0\" targetRef=\"Gateway_0cjkzda\" />\n",
    "    <bpmn:sequenceFlow id=\"Flow_1erryay\" name=\"Yes\" sourceRef=\"Gateway_0cjkzda\" targetRef=\"Activity_1nouf0v\">\n",
    "      <bpmn:conditionExpression xsi:type=\"bpmn:tFormalExpression\">${isAvailable == true}</bpmn:conditionExpression>\n",
    "    </bpmn:sequenceFlow>\n",
    "    <bpmn:sequenceFlow id=\"Flow_167v014\" name=\"No\" sourceRef=\"Gateway_0cjkzda\" targetRef=\"Activity_0bpppb5\">\n",
    "      <bpmn:conditionExpression xsi:type=\"bpmn:tFormalExpression\">${isAvailable == false}</bpmn:conditionExpression>\n",
    "    </bpmn:sequenceFlow>\n",
    "    <bpmn:sequenceFlow id=\"Flow_1iswizi\" sourceRef=\"Activity_1nouf0v\" targetRef=\"Activity_0572g15\" />\n",
    "    <bpmn:sequenceFlow id=\"Flow_1ti8aq3\" sourceRef=\"Event_0jsahpx\" targetRef=\"Activity_0572g15\" />\n",
    "    <bpmn:sequenceFlow id=\"Flow_0thm5o6\" sourceRef=\"Activity_0572g15\" targetRef=\"Gateway_0enk64n\" />\n",
    "    <bpmn:sequenceFlow id=\"Flow_0cufsqq\" name=\"Yes\" sourceRef=\"Gateway_0enk64n\" targetRef=\"Event_0egkq7s\" />\n",
    "    <bpmn:sequenceFlow id=\"Flow_09bgqcq\" name=\"No\" sourceRef=\"Gateway_0enk64n\" targetRef=\"Event_0jsahpx\" />\n",
    "    <bpmn:sequenceFlow id=\"Flow_0vt19p8\" sourceRef=\"Activity_0bpppb5\" targetRef=\"Event_1xeeqax\" />\n",
    "    <bpmn:sequenceFlow id=\"Flow_0187d8h\" sourceRef=\"Event_1fjysar\" targetRef=\"Event_102l8sj\" />\n",
    "    <bpmn:dataObjectReference id=\"DataObjectReference_09rpu96\" name=\"Order\" dataObjectRef=\"DataObject_0xmgeqb\" />\n",
    "    <bpmn:dataObject id=\"DataObject_0xmgeqb\" />\n",
    "    <bpmn:dataObjectReference id=\"DataObjectReference_0a4xslp\" name=\"Delivery Bill\" dataObjectRef=\"DataObject_14g4ktx\" />\n",
    "    <bpmn:dataObject id=\"DataObject_14g4ktx\" />\n",
    "    <bpmn:dataObjectReference id=\"DataObjectReference_0doca2i\" name=\"Invoice\" dataObjectRef=\"DataObject_0qk0tyi\" />\n",
    "    <bpmn:dataObject id=\"DataObject_0qk0tyi\" />\n",
    "    <bpmn:association id=\"Association_0ads7e6\" associationDirection=\"One\" sourceRef=\"Event_1nwp297\" targetRef=\"Activity_0t4x0g8\" />\n",
    "  </bpmn:process>\n",
    "</bpmn:definitions>\n",
    "\"\"\""
   ],
   "metadata": {
    "collapsed": false,
    "ExecuteTime": {
     "end_time": "2023-09-19T10:31:57.831533Z",
     "start_time": "2023-09-19T10:31:57.813435Z"
    }
   },
   "id": "884eea43ec6b1ab1"
  },
  {
   "cell_type": "code",
   "execution_count": 29,
   "outputs": [
    {
     "name": "stdout",
     "output_type": "stream",
     "text": [
      "{\n",
      "  \"process\": \"Order Fulfillment\",\n",
      "  \"processResponsibility\": \"This process is responsible for handling received orders, checking product availability, preparing and delivering the order. If the product is not available or delivery is unsuccessful, the order is cancelled.\",\n",
      "  \"input\": [\"order\"],\n",
      "  \"supplierOfInput\": [\"Customer\"],\n",
      "  \"processSteps\": [\"Order received\", \"Check availability\", \"Prepare order\", \"Deliver order\", \"Order fullfilled or Cancelled\"],\n",
      "  \"output\": [\"isAvailable\", \"storageYard\", \"item\", \"quantity\", \"deliveryBill\", \"invoice\"],\n",
      "  \"customerOfOutput\": [\"Inventory Management System\", \"Delivery Service\", \"Accounting\"],\n",
      "  \"metrics\": [\"Order processing time\", \"Number of orders fulfilled\", \"Number of orders cancelled\", \"Delivery success rate\"],\n",
      "  \"itSystems\": [\"Inventory Management System\", \"Delivery Service System\", \"Accounting System\"],\n",
      "  \"resources\": [\"Inventory\", \"Delivery personnel\", \"Accounting personnel\"]\n",
      "}\n"
     ]
    }
   ],
   "source": [
    "prompt_order = f\"\"\"\n",
    "Create a process documentation as a valid JSON object for the specified process delimited by triple backticks. \\\n",
    "\n",
    "Process: \\\n",
    "```{bpmn_without_bpmndi}``` \\\n",
    "\"\"\"\n",
    "response = get_completion(prompt_order, template, \"gpt-4\")\n",
    "print(response)\n"
   ],
   "metadata": {
    "collapsed": false,
    "ExecuteTime": {
     "end_time": "2023-09-19T10:39:38.363918Z",
     "start_time": "2023-09-19T10:39:16.087012Z"
    }
   },
   "id": "6ac7dc595f369ff7"
  },
  {
   "cell_type": "code",
   "execution_count": null,
   "outputs": [],
   "source": [],
   "metadata": {
    "collapsed": false
   },
   "id": "609f022c3f780d6c"
  }
 ],
 "metadata": {
  "kernelspec": {
   "display_name": "Python 3",
   "language": "python",
   "name": "python3"
  },
  "language_info": {
   "codemirror_mode": {
    "name": "ipython",
    "version": 2
   },
   "file_extension": ".py",
   "mimetype": "text/x-python",
   "name": "python",
   "nbconvert_exporter": "python",
   "pygments_lexer": "ipython2",
   "version": "2.7.6"
  }
 },
 "nbformat": 4,
 "nbformat_minor": 5
}
